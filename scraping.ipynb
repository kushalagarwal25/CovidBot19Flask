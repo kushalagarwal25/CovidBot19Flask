{
 "cells": [
  {
   "cell_type": "code",
   "execution_count": 1,
   "metadata": {},
   "outputs": [],
   "source": [
    "from urllib.request import urlopen\n",
    "from bs4 import BeautifulSoup as soup"
   ]
  },
  {
   "cell_type": "code",
   "execution_count": 11,
   "metadata": {},
   "outputs": [],
   "source": [
    "bot_url = 'http://127.0.0.1:5000/chatbot'\n",
    "bot_data = urlopen(bot_url)\n",
    "# print(type(bot_data))\n",
    "bot_html = bot_data.read()\n",
    "# print(bot_html)\n",
    "bot_soup = soup(bot_html,'html.parser')\n",
    "# print(bot_soup)"
   ]
  },
  {
   "cell_type": "code",
   "execution_count": 12,
   "metadata": {},
   "outputs": [
    {
     "name": "stdout",
     "output_type": "stream",
     "text": [
      "[<div class=\"column\">\n",
      "<section class=\"msger\">\n",
      "<header class=\"msger-header\">\n",
      "<div class=\"msger-header-title\">\n",
      "            CovidBot \n",
      "          </div>\n",
      "</header>\n",
      "<main class=\"msger-chat\">\n",
      "<div class=\"msg left-msg\">\n",
      "<div class=\"msg-img\" style=\"background-image: url(https://image.flaticon.com/icons/svg/2913/2913584.svg)\"></div>\n",
      "<div class=\"msg-bubble\">\n",
      "<div class=\"msg-info\">\n",
      "<div class=\"msg-info-name\">CoronaBot</div>\n",
      "<div class=\"msg-info-time\"><span id=\"datetime\"></span></div>\n",
      "</div>\n",
      "<div class=\"msg-text\">\n",
      "                Hello, hope you are staying at home safe. Welcome to Covid-19 Bot , I am here to answer your all chatbot related Faq's(To know how bot works type /help/ (slashes are important)). <br/>Choose any one of the given intent: /testing, /general, /prevention_and_protection, /spread, /service, /info, /mental_health_and_fitness, /myths_and_rumours, /cure, /child_women_pet, /symptoms, /movement, /gathering, /impact_of_corona, /help\n",
      "              </div>\n",
      "</div>\n",
      "</div>\n",
      "</main>\n",
      "<form class=\"msger-inputarea\">\n",
      "<input class=\"msger-input\" id=\"textInput\" placeholder=\"Type Something...\" type=\"text\"/>\n",
      "<button class=\"msger-send-btn\" type=\"submit\">Send</button>\n",
      "</form>\n",
      "</section>\n",
      "</div>, <div class=\"msger-header-title\">\n",
      "            CovidBot \n",
      "          </div>, <div class=\"msg left-msg\">\n",
      "<div class=\"msg-img\" style=\"background-image: url(https://image.flaticon.com/icons/svg/2913/2913584.svg)\"></div>\n",
      "<div class=\"msg-bubble\">\n",
      "<div class=\"msg-info\">\n",
      "<div class=\"msg-info-name\">CoronaBot</div>\n",
      "<div class=\"msg-info-time\"><span id=\"datetime\"></span></div>\n",
      "</div>\n",
      "<div class=\"msg-text\">\n",
      "                Hello, hope you are staying at home safe. Welcome to Covid-19 Bot , I am here to answer your all chatbot related Faq's(To know how bot works type /help/ (slashes are important)). <br/>Choose any one of the given intent: /testing, /general, /prevention_and_protection, /spread, /service, /info, /mental_health_and_fitness, /myths_and_rumours, /cure, /child_women_pet, /symptoms, /movement, /gathering, /impact_of_corona, /help\n",
      "              </div>\n",
      "</div>\n",
      "</div>, <div class=\"msg-img\" style=\"background-image: url(https://image.flaticon.com/icons/svg/2913/2913584.svg)\"></div>, <div class=\"msg-bubble\">\n",
      "<div class=\"msg-info\">\n",
      "<div class=\"msg-info-name\">CoronaBot</div>\n",
      "<div class=\"msg-info-time\"><span id=\"datetime\"></span></div>\n",
      "</div>\n",
      "<div class=\"msg-text\">\n",
      "                Hello, hope you are staying at home safe. Welcome to Covid-19 Bot , I am here to answer your all chatbot related Faq's(To know how bot works type /help/ (slashes are important)). <br/>Choose any one of the given intent: /testing, /general, /prevention_and_protection, /spread, /service, /info, /mental_health_and_fitness, /myths_and_rumours, /cure, /child_women_pet, /symptoms, /movement, /gathering, /impact_of_corona, /help\n",
      "              </div>\n",
      "</div>, <div class=\"msg-info\">\n",
      "<div class=\"msg-info-name\">CoronaBot</div>\n",
      "<div class=\"msg-info-time\"><span id=\"datetime\"></span></div>\n",
      "</div>, <div class=\"msg-info-name\">CoronaBot</div>, <div class=\"msg-info-time\"><span id=\"datetime\"></span></div>, <div class=\"msg-text\">\n",
      "                Hello, hope you are staying at home safe. Welcome to Covid-19 Bot , I am here to answer your all chatbot related Faq's(To know how bot works type /help/ (slashes are important)). <br/>Choose any one of the given intent: /testing, /general, /prevention_and_protection, /spread, /service, /info, /mental_health_and_fitness, /myths_and_rumours, /cure, /child_women_pet, /symptoms, /movement, /gathering, /impact_of_corona, /help\n",
      "              </div>]\n"
     ]
    }
   ],
   "source": [
    "msgs = bot_soup.findAll('div',{})\n",
    "print(msgs)"
   ]
  },
  {
   "cell_type": "code",
   "execution_count": null,
   "metadata": {},
   "outputs": [],
   "source": []
  }
 ],
 "metadata": {
  "kernelspec": {
   "display_name": "Python 3",
   "language": "python",
   "name": "python3"
  },
  "language_info": {
   "codemirror_mode": {
    "name": "ipython",
    "version": 3
   },
   "file_extension": ".py",
   "mimetype": "text/x-python",
   "name": "python",
   "nbconvert_exporter": "python",
   "pygments_lexer": "ipython3",
   "version": "3.8.2"
  }
 },
 "nbformat": 4,
 "nbformat_minor": 2
}
